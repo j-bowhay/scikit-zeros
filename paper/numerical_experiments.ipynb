{
 "cells": [
  {
   "cell_type": "code",
   "execution_count": 1,
   "id": "251bce32",
   "metadata": {},
   "outputs": [],
   "source": [
    "import matplotlib.pyplot as plt\n",
    "import numpy as np\n",
    "from scipy.stats import qmc\n",
    "\n",
    "from scikit_poles_zeros._domain import Rectangle, _subdivide_domain\n",
    "from scikit_poles_zeros._zeros import find_zeros"
   ]
  },
  {
   "cell_type": "code",
   "execution_count": 2,
   "id": "3b5e746a",
   "metadata": {},
   "outputs": [],
   "source": [
    "N = 100\n",
    "rng = np.random.default_rng(12345)\n",
    "eps = np.finfo(np.float64).eps"
   ]
  },
  {
   "cell_type": "code",
   "execution_count": 3,
   "id": "6675079f",
   "metadata": {},
   "outputs": [
    {
     "name": "stderr",
     "output_type": "stream",
     "text": [
      "/home/j-bowhay/development/scikit-poles-zeros/venv/lib/python3.13/site-packages/scipy/stats/_qmc.py:993: UserWarning: The balance properties of Sobol' points require n to be a power of 2.\n",
      "  sample = self._random(n, workers=workers)\n"
     ]
    }
   ],
   "source": [
    "sampler = qmc.Sobol(d=2, rng=rng)\n",
    "tmp = sampler.random(N)\n",
    "zeros = tmp[:, 0] + tmp[:, 1] * 1j"
   ]
  },
  {
   "cell_type": "code",
   "execution_count": 4,
   "id": "bccbdcdc",
   "metadata": {},
   "outputs": [],
   "source": [
    "def f(z):\n",
    "    return np.prod(np.subtract.outer(z, zeros), axis=-1)\n",
    "\n",
    "\n",
    "def f_z(z):\n",
    "    tmp = np.subtract.outer(z, zeros)\n",
    "    return np.prod(tmp, axis=-1) * np.sum(1 / tmp, axis=-1)"
   ]
  },
  {
   "cell_type": "code",
   "execution_count": 5,
   "id": "dfa5bc22",
   "metadata": {},
   "outputs": [
    {
     "data": {
      "text/plain": [
       "[<scikit_poles_zeros._domain.Rectangle at 0x7f0d047bb290>,\n",
       " <scikit_poles_zeros._domain.Rectangle at 0x7f0d047bb2e0>,\n",
       " <scikit_poles_zeros._domain.Rectangle at 0x7f0d047bb330>,\n",
       " <scikit_poles_zeros._domain.Rectangle at 0x7f0d047bb5b0>,\n",
       " <scikit_poles_zeros._domain.Rectangle at 0x7f0d047bb3d0>,\n",
       " <scikit_poles_zeros._domain.Rectangle at 0x7f0d047bb600>,\n",
       " <scikit_poles_zeros._domain.Rectangle at 0x7f0d047bb650>,\n",
       " <scikit_poles_zeros._domain.Rectangle at 0x7f0d047bb6a0>,\n",
       " <scikit_poles_zeros._domain.Rectangle at 0x7f0d047bb6f0>,\n",
       " <scikit_poles_zeros._domain.Rectangle at 0x7f0d047bb8d0>,\n",
       " <scikit_poles_zeros._domain.Rectangle at 0x7f0d047bb790>,\n",
       " <scikit_poles_zeros._domain.Rectangle at 0x7f0d047bb920>,\n",
       " <scikit_poles_zeros._domain.Rectangle at 0x7f0d047bb970>,\n",
       " <scikit_poles_zeros._domain.Rectangle at 0x7f0d047bb9c0>,\n",
       " <scikit_poles_zeros._domain.Rectangle at 0x7f0d047bba10>,\n",
       " <scikit_poles_zeros._domain.Rectangle at 0x7f0d047bbb50>]"
      ]
     },
     "execution_count": 5,
     "metadata": {},
     "output_type": "execute_result"
    }
   ],
   "source": [
    "d = Rectangle(0, complex(1, 1))\n",
    "_subdivide_domain(d, f, f_z, max_arg_principle=7.1)"
   ]
  },
  {
   "cell_type": "code",
   "execution_count": 6,
   "id": "cec6032b",
   "metadata": {},
   "outputs": [
    {
     "data": {
      "text/plain": [
       "[<matplotlib.lines.Line2D at 0x7f0d045296d0>]"
      ]
     },
     "execution_count": 6,
     "metadata": {},
     "output_type": "execute_result"
    },
    {
     "data": {
      "image/png": "[encoded data removed]",
      "text/plain": [
       "<Figure size 640x480 with 1 Axes>"
      ]
     },
     "metadata": {},
     "output_type": "display_data"
    }
   ],
   "source": [
    "fig, ax = plt.subplots()\n",
    "d.plot(ax)\n",
    "ax.plot(zeros.real, zeros.imag, \".\")"
   ]
  },
  {
   "cell_type": "code",
   "execution_count": 7,
   "id": "ee822b27",
   "metadata": {},
   "outputs": [
    {
     "name": "stdout",
     "output_type": "stream",
     "text": [
      "expected=(7+0j), actual=np.complex128(7.000000000000134+1.5113220467859013e-14j)\n"
     ]
    },
    {
     "ename": "TypeError",
     "evalue": "'numpy.ndarray' object is not callable",
     "output_type": "error",
     "traceback": [
      "\u001b[31m---------------------------------------------------------------------------\u001b[39m",
      "\u001b[31mTypeError\u001b[39m                                 Traceback (most recent call last)",
      "\u001b[36mCell\u001b[39m\u001b[36m \u001b[39m\u001b[32mIn[7]\u001b[39m\u001b[32m, line 2\u001b[39m\n\u001b[32m      1\u001b[39m d = Rectangle(\u001b[32m0\u001b[39m, \u001b[38;5;28mcomplex\u001b[39m(\u001b[32m1\u001b[39m, \u001b[32m1\u001b[39m))\n\u001b[32m----> \u001b[39m\u001b[32m2\u001b[39m \u001b[43mfind_zeros\u001b[49m\u001b[43m(\u001b[49m\u001b[43md\u001b[49m\u001b[43m,\u001b[49m\u001b[43m \u001b[49m\u001b[43mf\u001b[49m\u001b[43m,\u001b[49m\u001b[43m \u001b[49m\u001b[43mf_z\u001b[49m\u001b[43m,\u001b[49m\u001b[43m \u001b[49m\u001b[43mmax_arg_principle\u001b[49m\u001b[43m=\u001b[49m\u001b[32;43m7.1\u001b[39;49m\u001b[43m)\u001b[49m\n",
      "\u001b[36mFile \u001b[39m\u001b[32m~/development/scikit-poles-zeros/src/scikit_poles_zeros/_zeros.py:31\u001b[39m, in \u001b[36mfind_zeros\u001b[39m\u001b[34m(domain, f, f_z, max_arg_principle, quadrature_args, maxiter, rng)\u001b[39m\n\u001b[32m     29\u001b[39m expected = region._arg_principle\n\u001b[32m     30\u001b[39m \u001b[38;5;66;03m# 2. Apply continuum AAA\u001b[39;00m\n\u001b[32m---> \u001b[39m\u001b[32m31\u001b[39m z, f, w = \u001b[43mAAA\u001b[49m\u001b[43m(\u001b[49m\u001b[38;5;28;43;01mlambda\u001b[39;49;00m\u001b[43m \u001b[49m\u001b[43mz\u001b[49m\u001b[43m:\u001b[49m\u001b[43m \u001b[49m\u001b[43mf_z\u001b[49m\u001b[43m(\u001b[49m\u001b[43mz\u001b[49m\u001b[43m)\u001b[49m\u001b[43m/\u001b[49m\u001b[43mf\u001b[49m\u001b[43m(\u001b[49m\u001b[43mz\u001b[49m\u001b[43m)\u001b[49m\u001b[43m,\u001b[49m\u001b[43m \u001b[49m\u001b[43mregion\u001b[49m\u001b[43m)\u001b[49m\n\u001b[32m     32\u001b[39m \u001b[38;5;66;03m# 3. Compute poles and residue\u001b[39;00m\n\u001b[32m     33\u001b[39m poles, residue = poles_residues(z, f, w, residue=\u001b[38;5;28;01mTrue\u001b[39;00m)\n",
      "\u001b[36mFile \u001b[39m\u001b[32m~/development/scikit-poles-zeros/src/scikit_poles_zeros/_AAA.py:12\u001b[39m, in \u001b[36mAAA\u001b[39m\u001b[34m(f, r, rtol, max_iter, err_on_max_iter, initial_samples)\u001b[39m\n\u001b[32m     10\u001b[39m tm = XS(t, \u001b[38;5;28mmax\u001b[39m(\u001b[32m3\u001b[39m, initial_samples - m))\n\u001b[32m     11\u001b[39m X = r.sample_boundary(tm)\n\u001b[32m---> \u001b[39m\u001b[32m12\u001b[39m fX = \u001b[43mf\u001b[49m\u001b[43m(\u001b[49m\u001b[43mX\u001b[49m\u001b[43m)\u001b[49m\n\u001b[32m     13\u001b[39m to_keep = (np.isfinite(fX)) & (~np.isnan(fX))\n\u001b[32m     14\u001b[39m X = X[to_keep]\n",
      "\u001b[36mFile \u001b[39m\u001b[32m~/development/scikit-poles-zeros/src/scikit_poles_zeros/_zeros.py:31\u001b[39m, in \u001b[36mfind_zeros.<locals>.<lambda>\u001b[39m\u001b[34m(z)\u001b[39m\n\u001b[32m     29\u001b[39m expected = region._arg_principle\n\u001b[32m     30\u001b[39m \u001b[38;5;66;03m# 2. Apply continuum AAA\u001b[39;00m\n\u001b[32m---> \u001b[39m\u001b[32m31\u001b[39m z, f, w = AAA(\u001b[38;5;28;01mlambda\u001b[39;00m z: f_z(z)/\u001b[43mf\u001b[49m\u001b[43m(\u001b[49m\u001b[43mz\u001b[49m\u001b[43m)\u001b[49m, region)\n\u001b[32m     32\u001b[39m \u001b[38;5;66;03m# 3. Compute poles and residue\u001b[39;00m\n\u001b[32m     33\u001b[39m poles, residue = poles_residues(z, f, w, residue=\u001b[38;5;28;01mTrue\u001b[39;00m)\n",
      "\u001b[31mTypeError\u001b[39m: 'numpy.ndarray' object is not callable"
     ]
    }
   ],
   "source": [
    "d = Rectangle(0, complex(1, 1))\n",
    "find_zeros(d, f, f_z, max_arg_principle=7.1)"
   ]
  },
  {
   "cell_type": "code",
   "execution_count": null,
   "id": "85964d6c",
   "metadata": {},
   "outputs": [],
   "source": []
  }
 ],
 "metadata": {
  "kernelspec": {
   "display_name": "venv",
   "language": "python",
   "name": "python3"
  },
  "language_info": {
   "codemirror_mode": {
    "name": "ipython",
    "version": 3
   },
   "file_extension": ".py",
   "mimetype": "text/x-python",
   "name": "python",
   "nbconvert_exporter": "python",
   "pygments_lexer": "ipython3",
   "version": "3.13.2"
  }
 },
 "nbformat": 4,
 "nbformat_minor": 5
}
