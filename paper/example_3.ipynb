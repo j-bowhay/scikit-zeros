{
 "cells": [
  {
   "cell_type": "code",
   "execution_count": 3,
   "id": "6d876f72",
   "metadata": {},
   "outputs": [],
   "source": [
    "import numpy as np"
   ]
  },
  {
   "cell_type": "code",
   "execution_count": null,
   "id": "e12cb742",
   "metadata": {},
   "outputs": [],
   "source": [
    "rng = np.random.default_rng(1212)\n",
    "\n",
    "n = 20\n",
    "D = np.linspace(1, n, num=n)\n",
    "X = rng.random((n, n))\n",
    "A = X @ np.diag(D) @ np.linalg.inv(X)\n",
    "u, v = rng.random((2, n))"
   ]
  },
  {
   "cell_type": "code",
   "execution_count": 92,
   "id": "a188ae65",
   "metadata": {},
   "outputs": [],
   "source": [
    "@np.vectorize\n",
    "def f(z):\n",
    "    return u.T @ np.linalg.solve(A - z * np.eye(n), v)\n",
    "\n",
    "\n",
    "@np.vectorize\n",
    "def f_z(z):\n",
    "    return -u.T @ np.linalg.solve(\n",
    "        A - z * np.eye(n), np.linalg.solve(A - z * np.eye(n), v)\n",
    "    )"
   ]
  }
 ],
 "metadata": {
  "kernelspec": {
   "display_name": "venv",
   "language": "python",
   "name": "python3"
  },
  "language_info": {
   "codemirror_mode": {
    "name": "ipython",
    "version": 3
   },
   "file_extension": ".py",
   "mimetype": "text/x-python",
   "name": "python",
   "nbconvert_exporter": "python",
   "pygments_lexer": "ipython3",
   "version": "3.13.3"
  }
 },
 "nbformat": 4,
 "nbformat_minor": 5
}
